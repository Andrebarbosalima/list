{
  "nbformat": 4,
  "nbformat_minor": 0,
  "metadata": {
    "colab": {
      "name": "Untitled22.ipynb",
      "provenance": [],
      "authorship_tag": "ABX9TyOVAsClFtThiCZnAWt+thlx",
      "include_colab_link": true
    },
    "kernelspec": {
      "name": "python3",
      "display_name": "Python 3"
    },
    "language_info": {
      "name": "python"
    }
  },
  "cells": [
    {
      "cell_type": "markdown",
      "metadata": {
        "id": "view-in-github",
        "colab_type": "text"
      },
      "source": [
        "<a href=\"https://colab.research.google.com/github/Andrebarbosalima/list/blob/master/Untitled22.ipynb\" target=\"_parent\"><img src=\"https://colab.research.google.com/assets/colab-badge.svg\" alt=\"Open In Colab\"/></a>"
      ]
    },
    {
      "cell_type": "code",
      "metadata": {
        "colab": {
          "base_uri": "https://localhost:8080/"
        },
        "id": "QB1tA__V4g_m",
        "outputId": "0222709f-71ce-433c-9b75-e340ca792619"
      },
      "source": [
        "lista_vazia=[]\n",
        "print(\"lista vazia\", lista_vazia)"
      ],
      "execution_count": null,
      "outputs": [
        {
          "output_type": "stream",
          "text": [
            "lista vazia []\n"
          ],
          "name": "stdout"
        }
      ]
    },
    {
      "cell_type": "code",
      "metadata": {
        "colab": {
          "base_uri": "https://localhost:8080/"
        },
        "id": "fXjtXQ5k6YO7",
        "outputId": "d81e3e03-43fc-40e2-8b18-894755ceaf1a"
      },
      "source": [
        "lista_inteiros=[2, 6, 8, 9]\n",
        "print(\"lista inteiros\", lista_inteiros)"
      ],
      "execution_count": null,
      "outputs": [
        {
          "output_type": "stream",
          "text": [
            "lista inteiros [2, 6, 8, 9]\n"
          ],
          "name": "stdout"
        }
      ]
    },
    {
      "cell_type": "code",
      "metadata": {
        "colab": {
          "base_uri": "https://localhost:8080/"
        },
        "id": "V6ZYAKym61RZ",
        "outputId": "1ee785af-9e44-4e39-ad7d-7aed35721e5e"
      },
      "source": [
        "lista_tipos_diferentes = [\"Andre\" , \"Flamengo\", 1981]\n",
        "print(\"lista tipos diferentes\", lista_tipos_diferentes)"
      ],
      "execution_count": null,
      "outputs": [
        {
          "output_type": "stream",
          "text": [
            "lista tipos diferentes ['Andre', 'Flamengo', 1981]\n"
          ],
          "name": "stdout"
        }
      ]
    },
    {
      "cell_type": "code",
      "metadata": {
        "colab": {
          "base_uri": "https://localhost:8080/"
        },
        "id": "B3L1FFp679YI",
        "outputId": "fb6d5c7c-9217-4806-eef3-d270f3662a67"
      },
      "source": [
        "lista_aninhada=[ 2 ,[1,[3, [4]]], 5]\n",
        "print(\"lista aninhada\", lista_aninhada)"
      ],
      "execution_count": null,
      "outputs": [
        {
          "output_type": "stream",
          "text": [
            "lista aninhada [2, [1, [3, [4]]], 5]\n"
          ],
          "name": "stdout"
        }
      ]
    },
    {
      "cell_type": "code",
      "metadata": {
        "colab": {
          "base_uri": "https://localhost:8080/"
        },
        "id": "sKbtuxR28s1t",
        "outputId": "233f2288-1eaf-4d30-e7c0-f291a0d86a4c"
      },
      "source": [
        "matriz =[[1, 2, 3], [4, 5, 6], [7, 8, 9]]\n",
        "print(\"matriz 3x3\", matriz)\n",
        "print(\"matriz empressa de outra forma\")\n",
        "for lista in matriz:\n",
        "    for elemento in lista:\n",
        "        print(elemento, end=' ')\n",
        "    print()"
      ],
      "execution_count": null,
      "outputs": [
        {
          "output_type": "stream",
          "text": [
            "matriz 3x3 [[1, 2, 3], [4, 5, 6], [7, 8, 9]]\n",
            "matriz empressa de outra forma\n",
            "1 2 3 \n",
            "4 5 6 \n",
            "7 8 9 \n"
          ],
          "name": "stdout"
        }
      ]
    },
    {
      "cell_type": "code",
      "metadata": {
        "colab": {
          "base_uri": "https://localhost:8080/"
        },
        "id": "FI5TmHV9-79L",
        "outputId": "ff1c4729-3666-4334-c9b7-17484aea52c0"
      },
      "source": [
        "# função range()\n",
        "inicio =0\n",
        "passo=10\n",
        "fim = 100\n",
        "print(list(range(inicio, fim, passo)))\n",
        "\n",
        "print(list(range(0, 10)))"
      ],
      "execution_count": null,
      "outputs": [
        {
          "output_type": "stream",
          "text": [
            "[0, 10, 20, 30, 40, 50, 60, 70, 80, 90]\n",
            "[0, 1, 2, 3, 4, 5, 6, 7, 8, 9]\n"
          ],
          "name": "stdout"
        }
      ]
    },
    {
      "cell_type": "code",
      "metadata": {
        "colab": {
          "base_uri": "https://localhost:8080/"
        },
        "id": "rgtUS0h2Amkt",
        "outputId": "213367cf-4c35-4588-e240-50a077104348"
      },
      "source": [
        "# Ordenamento de lista\n",
        "lista =[ 89, 23, 56, 10, 0, 1, -10]\n",
        "lista.sort()\n",
        "print(\"Lista ordenada\", lista)\n",
        "lista.sort(reverse=True)\n",
        "print(\"Lista decrescente\", lista)"
      ],
      "execution_count": null,
      "outputs": [
        {
          "output_type": "stream",
          "text": [
            "Lista ordenada [-10, 0, 1, 10, 23, 56, 89]\n",
            "Lista decrescente [89, 56, 23, 10, 1, 0, -10]\n"
          ],
          "name": "stdout"
        }
      ]
    },
    {
      "cell_type": "code",
      "metadata": {
        "colab": {
          "base_uri": "https://localhost:8080/"
        },
        "id": "GZWo3rjMCZfQ",
        "outputId": "c6a0cec7-6992-48d8-bd27-0c85953e3768"
      },
      "source": [
        "# fazendo uma copia de uma lista\n",
        "lista_cop=[1, 5, 7, 8, 10]\n",
        "lista_copia = sorted(lista_cop)\n",
        "print(\"Copia da lista\", lista_copia)\n",
        "print(\"Lista inalterada\", lista_cop)\n"
      ],
      "execution_count": null,
      "outputs": [
        {
          "output_type": "stream",
          "text": [
            "Copia da lista [1, 5, 7, 8, 10]\n",
            "Lista inalterada [1, 5, 7, 8, 10]\n"
          ],
          "name": "stdout"
        }
      ]
    },
    {
      "cell_type": "code",
      "metadata": {
        "colab": {
          "base_uri": "https://localhost:8080/"
        },
        "id": "BW62gEuNIWln",
        "outputId": "56ec88d2-b4fc-47ce-8614-b4696908be08"
      },
      "source": [
        "# criando uma lista vazia\n",
        "lista=[]\n",
        "lista.append(\"P\")\n",
        "lista.append(\"Y\")\n",
        "lista.append(\"T\")\n",
        "lista.append(\"H\")\n",
        "lista.append(\"O\")\n",
        "lista.append(\"N\")\n",
        "print(lista)\n",
        "print()\n",
        "# Modificando elementos\n",
        "lista[1] =\"A\"\n",
        "lista[3] =\"R\"\n",
        "lista[4] =\"I\"\n",
        "lista[5] =\"A\"\n",
        "print(lista)\n"
      ],
      "execution_count": null,
      "outputs": [
        {
          "output_type": "stream",
          "text": [
            "['P', 'Y', 'T', 'H', 'O', 'N']\n",
            "\n",
            "['P', 'A', 'T', 'R', 'I', 'A']\n"
          ],
          "name": "stdout"
        }
      ]
    },
    {
      "cell_type": "code",
      "metadata": {
        "colab": {
          "base_uri": "https://localhost:8080/"
        },
        "id": "76LFFwsuK6eY",
        "outputId": "df13a644-54a0-4e18-a403-91757f03d59f"
      },
      "source": [
        "# append adiciona uma elemento em uma lista como uma lista\n",
        "bolo=[\"farinha\", \"ovos\", \"manteiga\"]\n",
        "bolo.append([\"fermento\", \"leite\"])\n",
        "print(bolo)\n",
        "print()\n",
        "\n",
        "# extend adicionar elemntos no fim de uma lista\n",
        "bolo.extend([\"leite\", \"fermento\"])\n",
        "print(bolo)"
      ],
      "execution_count": null,
      "outputs": [
        {
          "output_type": "stream",
          "text": [
            "['farinha', 'ovos', 'manteiga', ['fermento', 'leite']]\n",
            "\n",
            "['farinha', 'ovos', 'manteiga', ['fermento', 'leite'], 'leite', 'fermento']\n"
          ],
          "name": "stdout"
        }
      ]
    },
    {
      "cell_type": "code",
      "metadata": {
        "colab": {
          "base_uri": "https://localhost:8080/"
        },
        "id": "9FguGFl9MM5v",
        "outputId": "b533cf00-4ec7-4f8e-e387-490418980b4b"
      },
      "source": [
        "# Inserido elementos em possições especifica em uma lista\n",
        "lista = ['P', 'T', 'H', 'N']\n",
        "lista.insert(1, \"Y\")\n",
        "lista.insert(4, \"O\")\n",
        "print(lista)"
      ],
      "execution_count": null,
      "outputs": [
        {
          "output_type": "stream",
          "text": [
            "['P', 'Y', 'T', 'H', 'O', 'N']\n"
          ],
          "name": "stdout"
        }
      ]
    },
    {
      "cell_type": "code",
      "metadata": {
        "colab": {
          "base_uri": "https://localhost:8080/"
        },
        "id": "pSvlffYMM5cs",
        "outputId": "d421dce7-7657-4eb6-9c51-5752f1e60611"
      },
      "source": [
        "# removendo uma elemento de uma lista\n",
        "lista = ['A', 'S', 'C', 'E', 'N', 'D', 'E', 'R']\n",
        "lista.remove(\"S\")\n",
        "print(lista)\n",
        "print()\n",
        "#removendo um elemento em uma possição expecifica de uma lista\n",
        "del lista[0]\n",
        "print(lista)"
      ],
      "execution_count": null,
      "outputs": [
        {
          "output_type": "stream",
          "text": [
            "['A', 'C', 'E', 'N', 'D', 'E', 'R']\n",
            "\n",
            "['C', 'E', 'N', 'D', 'E', 'R']\n"
          ],
          "name": "stdout"
        }
      ]
    },
    {
      "cell_type": "code",
      "metadata": {
        "colab": {
          "base_uri": "https://localhost:8080/"
        },
        "id": "o4Q1g4bCOPCH",
        "outputId": "5322e233-7549-48a6-8783-b849fb0cfcbd"
      },
      "source": [
        "# Criando uma lista dentro de um for.\n",
        "frutas = ['laranja', 'banana', 'abacate', 'manga']\n",
        "plurais_frutas = []\n",
        "for fruta in frutas:\n",
        "  fruta += \"s\"\n",
        "  \n",
        "  plurais_frutas += [fruta]\n",
        "print(plurais_frutas)\n",
        "\n",
        "\n"
      ],
      "execution_count": null,
      "outputs": [
        {
          "output_type": "stream",
          "text": [
            "['laranjas', 'bananas', 'abacates', 'mangas']\n"
          ],
          "name": "stdout"
        }
      ]
    }
  ]
}